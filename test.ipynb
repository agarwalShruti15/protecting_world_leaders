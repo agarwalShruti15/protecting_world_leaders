{
 "cells": [
  {
   "cell_type": "markdown",
   "metadata": {},
   "source": [
    "## Test Pipeline\n",
    "\n",
    "In this notebook we demonstrate how to test a given video for real/fake.\n",
    "\n",
    "Requirements: \n",
    "\n",
    "<ul>\n",
    "    <li> Path to OpenFace2.0 build/bin folder. This folder is created after OpenFace compilation. Please follow the instructions given <a href=\"https://github.com/TadasBaltrusaitis/OpenFace/wiki\">here</a> to compile OpenFace2.0 on your machine.\n",
    "     <li> Path to the model trained on POI specific videos.\n",
    "     <li> Path to the POI specific test video. Please see README.md for the specification of this video. \n",
    "</ul>"
   ]
  },
  {
   "cell_type": "code",
   "execution_count": 1,
   "metadata": {},
   "outputs": [
    {
     "name": "stdout",
     "output_type": "stream",
     "text": [
      "Populating the interactive namespace from numpy and matplotlib\n"
     ]
    }
   ],
   "source": [
    "%reload_ext autoreload\n",
    "%autoreload 2\n",
    "%pylab inline\n",
    "import os\n",
    "import utils as u\n",
    "import matplotlib.pyplot as plt\n",
    "import time\n",
    "import warnings\n",
    "warnings.filterwarnings('ignore')\n",
    "\n",
    "from IPython.display import clear_output"
   ]
  },
  {
   "cell_type": "markdown",
   "metadata": {},
   "source": [
    "### 1) Initialize\n",
    "\n",
    "Initialize the parameter dictionary with the name of the test file and the model file to use. The sample dictionary entries for the five POIs whose model files are kept in models folder. For Obama, we have two models '190_bo_diff.pkl' and '29_bo_diff.pkl' using all pairs of 190 features and 29 selected features. For more details, please refer to the paper.pdf"
   ]
  },
  {
   "cell_type": "code",
   "execution_count": 2,
   "metadata": {},
   "outputs": [
    {
     "name": "stdout",
     "output_type": "stream",
     "text": [
      " Video: test_ex/obama-lipsync.mp4 \n",
      " Model: models/29_bo_diff.pkl\n"
     ]
    }
   ],
   "source": [
    "open_face_path = 'OpenFace' #path to OpenFace build/bin\n",
    "\n",
    "#OBAMA\n",
    "bo_dict = {'video_nm': 'test_ex/obama-lipsync.mp4', 'model_file': 'models/29_bo_diff.pkl'}\n",
    "\n",
    "#BERNIE\n",
    "bs_dict = {'video_nm': 'test_ex/sanders-real2.mp4', 'model_file': 'models/bs_diff.pkl'}\n",
    "\n",
    "#TRUMP\n",
    "dt_dict = {'video_nm': 'trump_spectre/real.mp4', 'model_file': 'models/dt_diff.pkl'}\n",
    "\n",
    "#HILLARY\n",
    "hc_dict = {'video_nm': 'test_ex/clinton-faceswap.mp4', 'model_file': 'models/hc_diff.pkl'}\n",
    "\n",
    "#WARREN\n",
    "ew_dict = {'video_nm': 'test_ex/warren-faceswap.mp4', 'model_file': 'models/ew_diff.pkl'}\n",
    "\n",
    "param_dict = bo_dict #select the dictionary\n",
    "print(' Video: {} \\n Model: {}'.format(param_dict['video_nm'], param_dict['model_file']))"
   ]
  },
  {
   "cell_type": "markdown",
   "metadata": {},
   "source": [
    "### 2) read the model\n",
    "\n",
    "read the POI specific model whose path is specified in the above dictionary. This model file has all the hyper-parameters that were used to train the model, which will be used during training as well. "
   ]
  },
  {
   "cell_type": "code",
   "execution_count": 3,
   "metadata": {},
   "outputs": [
    {
     "name": "stdout",
     "output_type": "stream",
     "text": [
      "dict_keys(['scaler', 'model', 'prob_rng', 'clip_len', 'feat_name', 'shift_win', 'c_t'])\n"
     ]
    }
   ],
   "source": [
    "#read the model\n",
    "model = u.load_obj(param_dict['model_file'])\n",
    "model['feat_name'] = [x.replace(' ', '') for x in model['feat_name']]\n",
    "assert model is not None\n",
    "\n",
    "print(model.keys())"
   ]
  },
  {
   "cell_type": "markdown",
   "metadata": {},
   "source": [
    "### 3) extract the facial features using OpenFace\n",
    "\n",
    "Run OpenFace to extract the facial features like 17 Action Units, 3-D head rotation, 68 2-D and 3-D facial landmarks. For more details on the features given by OpenFace2.0 see <a href=\"https://github.com/TadasBaltrusaitis/OpenFace/wiki/Output-Format\">here</a>. These features are estimated for every frame in the video. The estimations below the confidence threshold model['c_t'] are rejected. Any video clip that has less confident estimations are not considered here. \n",
    "\n",
    "The feature extraction needs the path to build/bin folder created after compilation of OpenFace. "
   ]
  },
  {
   "cell_type": "code",
   "execution_count": 4,
   "metadata": {},
   "outputs": [
    {
     "name": "stdout",
     "output_type": "stream",
     "text": [
      "   frame  face_id  timestamp  confidence  success  pose_Tx  pose_Ty  pose_Tz  \\\n",
      "0      1        0      0.000        0.98        1     -7.5     27.3    299.4   \n",
      "1      2        0      0.033        0.98        1     -7.6     27.3    299.9   \n",
      "2      3        0      0.067        0.98        1     -7.2     27.0    298.3   \n",
      "3      4        0      0.100        0.98        1     -7.1     26.9    297.6   \n",
      "4      5        0      0.133        0.93        1     -8.4     27.8    299.0   \n",
      "\n",
      "   pose_Rx  pose_Ry  ...  AU15_c  AU17_c  AU20_c  AU23_c  AU25_c  AU26_c  \\\n",
      "0    0.055    0.115  ...     0.0     0.0     0.0     0.0     0.0     0.0   \n",
      "1    0.045    0.109  ...     0.0     0.0     0.0     0.0     0.0     0.0   \n",
      "2    0.063    0.111  ...     0.0     0.0     0.0     0.0     0.0     0.0   \n",
      "3    0.064    0.113  ...     0.0     0.0     0.0     0.0     0.0     0.0   \n",
      "4    0.025    0.122  ...     0.0     0.0     0.0     0.0     0.0     0.0   \n",
      "\n",
      "   AU28_c  AU45_c   lip_hor   lip_ver  \n",
      "0     0.0     0.0  0.967320  0.130851  \n",
      "1     0.0     0.0  0.945795  0.118892  \n",
      "2     0.0     0.0  0.963571  0.123384  \n",
      "3     0.0     0.0  0.957567  0.126602  \n",
      "4     0.0     0.0  1.008722  0.138008  \n",
      "\n",
      "[5 rows x 428 columns]\n"
     ]
    }
   ],
   "source": [
    "#get all the facial features from OpenFace\n",
    "csv_features = u.get_facial_features(param_dict['video_nm'], open_face_path, conf_thres=model['c_t']) # we need less rejection\n",
    "\n",
    "print(csv_features.head())"
   ]
  },
  {
   "cell_type": "markdown",
   "metadata": {},
   "source": [
    "### 4) compute 190-D correlations\n",
    "\n",
    "compute all pair correlations for all overlapping 10-second clips in the video. The 10-second clips with frames rejected for less confidence are not considered here. "
   ]
  },
  {
   "cell_type": "code",
   "execution_count": 5,
   "metadata": {},
   "outputs": [
    {
     "name": "stdout",
     "output_type": "stream",
     "text": [
      "Number of clips extracted 274\n"
     ]
    }
   ],
   "source": [
    "#get all the 190 correlations from the facial features\n",
    "corr_ft = u.get_corr_per_frame(csv_features, model['clip_len'], model['shift_win'])\n",
    "\n",
    "print('Number of clips extracted {}'.format(len(corr_ft)))"
   ]
  },
  {
   "cell_type": "markdown",
   "metadata": {},
   "source": [
    "### 5) predict\n",
    "\n",
    "Using the model predict the score that the 10-second clips belong to the POI. Higher score means more likely that the clip is of POI."
   ]
  },
  {
   "cell_type": "code",
   "execution_count": 6,
   "metadata": {},
   "outputs": [
    {
     "name": "stdout",
     "output_type": "stream",
     "text": [
      "['AU10_rlip_hor', 'AU15_rlip_hor', 'pose_Rxlip_ver', 'AU14_rpose_Rx', 'AU15_rAU25_r', 'AU20_rAU26_r', 'AU26_rlip_ver', 'AU02_rlip_ver', 'AU10_rAU17_r', 'AU25_rpose_Rx', 'AU12_rAU15_r', 'AU14_rAU20_r', 'AU25_rlip_hor', 'AU04_rpose_Rx', 'AU06_rAU09_r', 'AU20_rAU23_r', 'AU07_rAU23_r', 'pose_Rxpose_Rz', 'AU09_rlip_ver', 'AU02_rpose_Rz', 'AU01_rlip_ver', 'lip_verlip_hor', 'AU15_rlip_ver', 'AU05_rAU25_r', 'AU01_rAU12_r', 'AU26_rlip_hor', 'AU12_rpose_Rx', 'AU10_rAU14_r', 'AU15_rpose_Rx']\n"
     ]
    }
   ],
   "source": [
    "col_names = model['feat_name'] # get the correlation features to consider\n",
    "print(col_names)\n",
    "\n",
    "if len(corr_ft):\n",
    "    #probability for testing: 10-second clip\n",
    "    pred_prob = model['model'].score_samples(model['scaler'].transform(np.array(corr_ft[col_names])))\n",
    "    pred_prob = (pred_prob - model['prob_rng'][0])/model['prob_rng'][1] #normalize\n",
    "else:\n",
    "    print('OpenFace feature detection not confident enough to predict')"
   ]
  },
  {
   "cell_type": "code",
   "execution_count": 8,
   "metadata": {},
   "outputs": [
    {
     "data": {
      "text/plain": [
       "[3198.9377566403227, 4661.48675751171]"
      ]
     },
     "execution_count": 8,
     "metadata": {},
     "output_type": "execute_result"
    }
   ],
   "source": [
    "model['prob_rng']"
   ]
  },
  {
   "cell_type": "code",
   "execution_count": 7,
   "metadata": {},
   "outputs": [
    {
     "data": {
      "text/plain": [
       "array([ 0.07916495,  0.08483483,  0.08764394,  0.08945843,  0.08184978,\n",
       "        0.09532999,  0.05676347,  0.03910726,  0.03157539,  0.01792279,\n",
       "        0.01824119,  0.01297066, -0.00316742,  0.013532  ,  0.01503606,\n",
       "        0.03212861,  0.02738381,  0.01988415,  0.01350342,  0.01046001,\n",
       "       -0.00358163, -0.01645943, -0.03143402, -0.03615651, -0.04048427,\n",
       "       -0.06210443, -0.07791749, -0.08899369, -0.09284215, -0.10017923,\n",
       "       -0.10112237, -0.1031763 , -0.07028251, -0.05933699, -0.05452416,\n",
       "       -0.04212009, -0.02377477, -0.0111796 , -0.01036836, -0.01254998,\n",
       "       -0.01197558, -0.01121307, -0.01098029, -0.01618526, -0.02435293,\n",
       "       -0.02523499, -0.0221086 , -0.01437527, -0.00863323, -0.00292357,\n",
       "       -0.00198632, -0.01821009, -0.01885723, -0.01716019, -0.00062158,\n",
       "        0.02318668,  0.04372796,  0.0425487 ,  0.02442947,  0.01992694,\n",
       "        0.01996362,  0.03005928,  0.01924398,  0.01899684, -0.01474981,\n",
       "       -0.06256589, -0.07475418, -0.10455164, -0.09439283, -0.07696861,\n",
       "       -0.06974094, -0.07441506, -0.08957638, -0.09447076, -0.09480369,\n",
       "       -0.09114379, -0.08711083, -0.08255069, -0.08110983, -0.08609768,\n",
       "       -0.07904307, -0.09307212, -0.09791736, -0.09701078, -0.10097602,\n",
       "       -0.0904066 , -0.08141789, -0.06537044, -0.05583366, -0.05212836,\n",
       "       -0.05465182, -0.09969442, -0.09004495, -0.08598603, -0.0910009 ,\n",
       "       -0.08942051, -0.08468238, -0.07129284, -0.06474815, -0.06131288,\n",
       "       -0.06015798, -0.0647329 , -0.03963955, -0.04086141, -0.0435719 ,\n",
       "       -0.06388872, -0.04513316, -0.04737067, -0.04194628, -0.04413118,\n",
       "       -0.04788932, -0.05214496, -0.05279103, -0.04260164, -0.03202101,\n",
       "       -0.03625672, -0.04534117, -0.05142502, -0.05352827, -0.05075859,\n",
       "       -0.04457483, -0.04628613, -0.05144616, -0.05099276, -0.0115457 ,\n",
       "        0.03511872,  0.03930862,  0.05787679,  0.06839068,  0.07508425,\n",
       "        0.07492394,  0.07372307,  0.07567723,  0.08041157,  0.07214264,\n",
       "        0.0655899 ,  0.06133449,  0.06200705,  0.05642091,  0.0490478 ,\n",
       "        0.04882539,  0.05593037,  0.07090142,  0.07581317,  0.07389838,\n",
       "        0.07552018,  0.08068857,  0.07798197,  0.08324598,  0.08122357,\n",
       "        0.07839702,  0.12491502,  0.12065266,  0.11379904,  0.11082122,\n",
       "        0.10675643,  0.11625103,  0.12911368,  0.14414093,  0.14276887,\n",
       "        0.14428004,  0.14960475,  0.12296009,  0.11112789,  0.11574863,\n",
       "        0.12692542,  0.10032213,  0.08968488,  0.07199258,  0.0647193 ,\n",
       "        0.04961182,  0.02635918,  0.01784802,  0.01272216, -0.00980939,\n",
       "       -0.06435582, -0.0973936 , -0.0955671 , -0.10008479, -0.10342334,\n",
       "       -0.08075932, -0.07124407, -0.07824039, -0.07054721, -0.06176082,\n",
       "       -0.05255027, -0.04922829, -0.06697626, -0.06265984, -0.06059586,\n",
       "       -0.05947087, -0.04946147, -0.06218195, -0.07749768, -0.06674883,\n",
       "       -0.05699625, -0.05735667, -0.06960091, -0.03982924, -0.04069972,\n",
       "       -0.04097424, -0.04394456, -0.04314396, -0.04323356, -0.06243955,\n",
       "       -0.06439343, -0.06419753, -0.06133319, -0.0525196 , -0.04078279,\n",
       "       -0.03485874, -0.02793756, -0.02346949, -0.02027204, -0.01448746,\n",
       "       -0.00912275, -0.01086635, -0.01230716, -0.02294952, -0.023343  ,\n",
       "       -0.02664645, -0.02577383, -0.02588764, -0.03281503, -0.04866796,\n",
       "       -0.03369064, -0.01717941, -0.02640926, -0.00743942, -0.01551603,\n",
       "       -0.02326897, -0.03587784, -0.05123839, -0.08049076, -0.09067661,\n",
       "       -0.03592718, -0.00296546, -0.00835211, -0.00463252,  0.00256742,\n",
       "        0.00616591, -0.03910166, -0.0536277 , -0.04680034, -0.03452623,\n",
       "       -0.04493434, -0.03958321, -0.04028945, -0.04232507, -0.04919699,\n",
       "       -0.05390152, -0.07525817, -0.03719737, -0.01379028, -0.00708985,\n",
       "       -0.01121837, -0.03368892, -0.00653665, -0.02599169, -0.02653737,\n",
       "       -0.02832959, -0.03873643, -0.04537648, -0.0866661 , -0.07597245,\n",
       "       -0.07833291, -0.09508031, -0.10557985, -0.12095931, -0.08996679,\n",
       "       -0.08079173, -0.07992672, -0.07301897, -0.07023215])"
      ]
     },
     "execution_count": 7,
     "metadata": {},
     "output_type": "execute_result"
    }
   ],
   "source": [
    "pred_prob"
   ]
  },
  {
   "cell_type": "markdown",
   "metadata": {},
   "source": [
    "### 6) plot\n",
    "\n",
    "Plot the histogram of scores computed over all the clips in the video. The clips with scores greater than zero are considered real. The title of the bar shows the proportion of clips classified as real in the video."
   ]
  },
  {
   "cell_type": "code",
   "execution_count": 26,
   "metadata": {},
   "outputs": [
    {
     "data": {
      "image/png": "[encoded data removed]",
      "text/plain": [
       "<Figure size 576x360 with 1 Axes>"
      ]
     },
     "metadata": {
      "needs_background": "light"
     },
     "output_type": "display_data"
    }
   ],
   "source": [
    "#plot the probability histogram\n",
    "#zero is considered as the threshold\n",
    "def plot_bar_graph(pred_prob):\n",
    "    \n",
    "    plt.figure(figsize=(8, 5)) #create figure\n",
    "    \n",
    "    nn_id = np.logical_not(np.isnan(pred_prob)) #remove nan if any\n",
    "    pred_prob = pred_prob[nn_id]\n",
    "    \n",
    "    #clip the pred_prob between [-1 , 1] for clarity\n",
    "    pred_prob[pred_prob<-1] = -0.5\n",
    "    pred_prob[pred_prob>1] = 0.5\n",
    "    \n",
    "    bins = np.linspace(np.min(pred_prob), np.max(pred_prob), 50)\n",
    "    s_counts, s_bin_edges = u.get_bins_edges(pred_prob, bins)\n",
    "    \n",
    "    plt.bar(s_bin_edges[s_bin_edges>0], s_counts[s_bin_edges>0], width=s_bin_edges[1] - s_bin_edges[0], color='g', alpha=0.7)\n",
    "    plt.bar(s_bin_edges[s_bin_edges<0], s_counts[s_bin_edges<0], width=s_bin_edges[1] - s_bin_edges[0], color='r', alpha=0.7)    \n",
    "    plt.plot([0, 0], [0, np.max(s_counts)], label='decision')\n",
    "    \n",
    "    plt.xlabel('score', fontsize=16)\n",
    "    plt.ylabel('percentage', fontsize=16)\n",
    "    plt.xlim([-0.5, 0.5])\n",
    "    plt.xticks(np.linspace(-0.5, 0.5, 5), fontsize=16)\n",
    "    plt.yticks([], fontsize=16)\n",
    "\n",
    "    plt.title('confidence of real: {0:.2f}'.format(np.sum(pred_prob>=0)/len(pred_prob)), fontsize=16)\n",
    "    plt.legend(fontsize=16)\n",
    "    plt.show()\n",
    "    \n",
    "#plot the histogram\n",
    "plot_bar_graph(pred_prob)"
   ]
  },
  {
   "cell_type": "code",
   "execution_count": null,
   "metadata": {},
   "outputs": [],
   "source": []
  }
 ],
 "metadata": {
  "kernelspec": {
   "display_name": "Python 3",
   "language": "python",
   "name": "python3"
  },
  "language_info": {
   "codemirror_mode": {
    "name": "ipython",
    "version": 3
   },
   "file_extension": ".py",
   "mimetype": "text/x-python",
   "name": "python",
   "nbconvert_exporter": "python",
   "pygments_lexer": "ipython3",
   "version": "3.7.9"
  }
 },
 "nbformat": 4,
 "nbformat_minor": 2
}
